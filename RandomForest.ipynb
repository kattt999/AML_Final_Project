{
 "cells": [
  {
   "cell_type": "code",
   "execution_count": 61,
   "id": "e442377b",
   "metadata": {},
   "outputs": [],
   "source": [
    "from numpy import loadtxt\n",
    "from xgboost import XGBClassifier\n",
    "import pandas as pd\n",
    "import numpy as np\n",
    "from sklearn.model_selection import train_test_split\n",
    "from sklearn.ensemble import RandomForestClassifier\n",
    "from sklearn.metrics import accuracy_score"
   ]
  },
  {
   "cell_type": "code",
   "execution_count": 62,
   "id": "2df4725f",
   "metadata": {},
   "outputs": [],
   "source": [
    "df = pd.read_csv(\"bow.csv\")\n",
    "x = df.iloc[:, :-1]\n",
    "y = df.iloc[:, -1]\n",
    "x_train, x_test, y_train, y_test = train_test_split(x, y, test_size = 0.2)\n",
    "y_train = np.array(y_train.to_list())"
   ]
  },
  {
   "cell_type": "code",
   "execution_count": 70,
   "id": "9e846081",
   "metadata": {},
   "outputs": [
    {
     "name": "stdout",
     "output_type": "stream",
     "text": [
      "1\n",
      "0.9955331412103746\n",
      "0.7175792507204611 \n",
      "\n",
      "2\n",
      "0.9690201729106628\n",
      "0.7118155619596542 \n",
      "\n",
      "3\n",
      "0.9048991354466859\n",
      "0.7152737752161383 \n",
      "\n",
      "4\n",
      "0.8762247838616715\n",
      "0.7106628242074928 \n",
      "\n"
     ]
    }
   ],
   "source": [
    "for i in range(1, 5, 1):\n",
    "    rf = RandomForestClassifier(max_depth = 26, n_estimators = 2900, min_samples_leaf = i).fit(x_train, y_train)\n",
    "    y_pred_train = rf.predict(x_train)\n",
    "    y_pred_test = rf.predict(x_test)\n",
    "    print(i)\n",
    "    print(accuracy_score(y_train, y_pred_train))\n",
    "    print(accuracy_score(y_test, y_pred_test), \"\\n\")"
   ]
  },
  {
   "cell_type": "code",
   "execution_count": 55,
   "id": "b7c860c3",
   "metadata": {},
   "outputs": [
    {
     "data": {
      "text/plain": [
       "0.4605187319884726"
      ]
     },
     "execution_count": 55,
     "metadata": {},
     "output_type": "execute_result"
    }
   ],
   "source": [
    "y_pred = rf.predict(x_test)\n",
    "accuracy_score(y_test, y_pred)"
   ]
  },
  {
   "cell_type": "code",
   "execution_count": 56,
   "id": "8cc6ecdb",
   "metadata": {},
   "outputs": [
    {
     "data": {
      "text/plain": [
       "0.7188760806916427"
      ]
     },
     "execution_count": 56,
     "metadata": {},
     "output_type": "execute_result"
    }
   ],
   "source": [
    "y_pred = rf.predict(x_train)\n",
    "accuracy_score(y_train, y_pred)"
   ]
  },
  {
   "cell_type": "code",
   "execution_count": null,
   "id": "405c535c",
   "metadata": {},
   "outputs": [],
   "source": []
  }
 ],
 "metadata": {
  "kernelspec": {
   "display_name": "Python 3 (ipykernel)",
   "language": "python",
   "name": "python3"
  },
  "language_info": {
   "codemirror_mode": {
    "name": "ipython",
    "version": 3
   },
   "file_extension": ".py",
   "mimetype": "text/x-python",
   "name": "python",
   "nbconvert_exporter": "python",
   "pygments_lexer": "ipython3",
   "version": "3.8.12"
  },
  "toc": {
   "base_numbering": 1,
   "nav_menu": {},
   "number_sections": true,
   "sideBar": true,
   "skip_h1_title": false,
   "title_cell": "Table of Contents",
   "title_sidebar": "Contents",
   "toc_cell": false,
   "toc_position": {},
   "toc_section_display": true,
   "toc_window_display": false
  }
 },
 "nbformat": 4,
 "nbformat_minor": 5
}
