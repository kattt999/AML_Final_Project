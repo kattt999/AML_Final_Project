{
 "cells": [
  {
   "cell_type": "code",
   "execution_count": 1,
   "id": "a8f5f5a6",
   "metadata": {},
   "outputs": [],
   "source": [
    "import pandas as pd"
   ]
  },
  {
   "cell_type": "code",
   "execution_count": 2,
   "id": "e111ea9a",
   "metadata": {},
   "outputs": [],
   "source": [
    "df = pd.read_csv(\"bow.csv\")"
   ]
  },
  {
   "cell_type": "code",
   "execution_count": 4,
   "id": "0b7ce6fe",
   "metadata": {},
   "outputs": [
    {
     "name": "stdout",
     "output_type": "stream",
     "text": [
      "['INFJ' 'ENTP' 'INTP' 'INTJ' 'ENTJ' 'ENFJ' 'INFP' 'ENFP' 'ISFP' 'ISTP'\n",
      " 'ISFJ' 'ISTJ' 'ESTP' 'ESFP' 'ESTJ' 'ESFJ']\n"
     ]
    }
   ],
   "source": [
    "print(df.iloc[:, -1].unique())"
   ]
  },
  {
   "cell_type": "code",
   "execution_count": 8,
   "id": "597fc0f0",
   "metadata": {},
   "outputs": [],
   "source": [
    "y = {\n",
    "    \"Analysts\": [\"INTJ\", 'INTP', 'ENTJ', 'ENTP'],\n",
    "    \"Diplomats\": [\"INFJ\", \"INFP\", \"ENFJ\", \"ENFP\"],\n",
    "    \"Sentinels\": [\"ISTJ\", \"ISFJ\", \"ESTJ\", \"ESFJ\"],\n",
    "    \"Explorers\": [\"ISTP\", \"ISFP\", \"ESTP\", \"ESFP\"]\n",
    "}"
   ]
  },
  {
   "cell_type": "code",
   "execution_count": 10,
   "id": "202a2263",
   "metadata": {},
   "outputs": [
    {
     "name": "stdout",
     "output_type": "stream",
     "text": [
      "dict_values([['INTJ', 'INTP', 'ENTJ', 'ENTP'], ['INFJ', 'INFP', 'ENFJ', 'ENFP'], ['ISTJ', 'ISFJ', 'ESTJ', 'ESFJ'], ['ISTP', 'ISFP', 'ESTP', 'ESFP']])\n"
     ]
    }
   ],
   "source": [
    "print(y.values())"
   ]
  },
  {
   "cell_type": "code",
   "execution_count": 13,
   "id": "5f112e99",
   "metadata": {},
   "outputs": [],
   "source": [
    "new_y = []\n",
    "for i in df.iloc[:, -1]:\n",
    "    for v in y.items():\n",
    "        if i in v[1]:\n",
    "            new_y.append(v[0])"
   ]
  },
  {
   "cell_type": "code",
   "execution_count": 15,
   "id": "1c8586a1",
   "metadata": {},
   "outputs": [
    {
     "data": {
      "text/html": [
       "<div>\n",
       "<style scoped>\n",
       "    .dataframe tbody tr th:only-of-type {\n",
       "        vertical-align: middle;\n",
       "    }\n",
       "\n",
       "    .dataframe tbody tr th {\n",
       "        vertical-align: top;\n",
       "    }\n",
       "\n",
       "    .dataframe thead th {\n",
       "        text-align: right;\n",
       "    }\n",
       "</style>\n",
       "<table border=\"1\" class=\"dataframe\">\n",
       "  <thead>\n",
       "    <tr style=\"text-align: right;\">\n",
       "      <th></th>\n",
       "      <th>abandon</th>\n",
       "      <th>abandoned</th>\n",
       "      <th>abilities</th>\n",
       "      <th>ability</th>\n",
       "      <th>able</th>\n",
       "      <th>abnormal</th>\n",
       "      <th>abortion</th>\n",
       "      <th>abouti</th>\n",
       "      <th>abrasive</th>\n",
       "      <th>abroad</th>\n",
       "      <th>...</th>\n",
       "      <th>yummy</th>\n",
       "      <th>yup</th>\n",
       "      <th>zelda</th>\n",
       "      <th>zen</th>\n",
       "      <th>zero</th>\n",
       "      <th>zodiac</th>\n",
       "      <th>zombie</th>\n",
       "      <th>zombies</th>\n",
       "      <th>zone</th>\n",
       "      <th>y</th>\n",
       "    </tr>\n",
       "  </thead>\n",
       "  <tbody>\n",
       "    <tr>\n",
       "      <th>0</th>\n",
       "      <td>0.0</td>\n",
       "      <td>0.000000</td>\n",
       "      <td>0.0</td>\n",
       "      <td>0.000000</td>\n",
       "      <td>0.000000</td>\n",
       "      <td>0.0</td>\n",
       "      <td>0.0</td>\n",
       "      <td>0.0</td>\n",
       "      <td>0.0</td>\n",
       "      <td>0.0</td>\n",
       "      <td>...</td>\n",
       "      <td>0.0</td>\n",
       "      <td>0.0</td>\n",
       "      <td>0.0</td>\n",
       "      <td>0.0</td>\n",
       "      <td>0.0</td>\n",
       "      <td>0.0</td>\n",
       "      <td>0.0</td>\n",
       "      <td>0.0</td>\n",
       "      <td>0.0</td>\n",
       "      <td>Diplomats</td>\n",
       "    </tr>\n",
       "    <tr>\n",
       "      <th>1</th>\n",
       "      <td>0.0</td>\n",
       "      <td>0.093925</td>\n",
       "      <td>0.0</td>\n",
       "      <td>0.000000</td>\n",
       "      <td>0.036422</td>\n",
       "      <td>0.0</td>\n",
       "      <td>0.0</td>\n",
       "      <td>0.0</td>\n",
       "      <td>0.0</td>\n",
       "      <td>0.0</td>\n",
       "      <td>...</td>\n",
       "      <td>0.0</td>\n",
       "      <td>0.0</td>\n",
       "      <td>0.0</td>\n",
       "      <td>0.0</td>\n",
       "      <td>0.0</td>\n",
       "      <td>0.0</td>\n",
       "      <td>0.0</td>\n",
       "      <td>0.0</td>\n",
       "      <td>0.0</td>\n",
       "      <td>Analysts</td>\n",
       "    </tr>\n",
       "    <tr>\n",
       "      <th>2</th>\n",
       "      <td>0.0</td>\n",
       "      <td>0.000000</td>\n",
       "      <td>0.0</td>\n",
       "      <td>0.054544</td>\n",
       "      <td>0.037744</td>\n",
       "      <td>0.0</td>\n",
       "      <td>0.0</td>\n",
       "      <td>0.0</td>\n",
       "      <td>0.0</td>\n",
       "      <td>0.0</td>\n",
       "      <td>...</td>\n",
       "      <td>0.0</td>\n",
       "      <td>0.0</td>\n",
       "      <td>0.0</td>\n",
       "      <td>0.0</td>\n",
       "      <td>0.0</td>\n",
       "      <td>0.0</td>\n",
       "      <td>0.0</td>\n",
       "      <td>0.0</td>\n",
       "      <td>0.0</td>\n",
       "      <td>Analysts</td>\n",
       "    </tr>\n",
       "    <tr>\n",
       "      <th>3</th>\n",
       "      <td>0.0</td>\n",
       "      <td>0.000000</td>\n",
       "      <td>0.0</td>\n",
       "      <td>0.000000</td>\n",
       "      <td>0.036635</td>\n",
       "      <td>0.0</td>\n",
       "      <td>0.0</td>\n",
       "      <td>0.0</td>\n",
       "      <td>0.0</td>\n",
       "      <td>0.0</td>\n",
       "      <td>...</td>\n",
       "      <td>0.0</td>\n",
       "      <td>0.0</td>\n",
       "      <td>0.0</td>\n",
       "      <td>0.0</td>\n",
       "      <td>0.0</td>\n",
       "      <td>0.0</td>\n",
       "      <td>0.0</td>\n",
       "      <td>0.0</td>\n",
       "      <td>0.0</td>\n",
       "      <td>Analysts</td>\n",
       "    </tr>\n",
       "    <tr>\n",
       "      <th>4</th>\n",
       "      <td>0.0</td>\n",
       "      <td>0.000000</td>\n",
       "      <td>0.0</td>\n",
       "      <td>0.000000</td>\n",
       "      <td>0.000000</td>\n",
       "      <td>0.0</td>\n",
       "      <td>0.0</td>\n",
       "      <td>0.0</td>\n",
       "      <td>0.0</td>\n",
       "      <td>0.0</td>\n",
       "      <td>...</td>\n",
       "      <td>0.0</td>\n",
       "      <td>0.0</td>\n",
       "      <td>0.0</td>\n",
       "      <td>0.0</td>\n",
       "      <td>0.0</td>\n",
       "      <td>0.0</td>\n",
       "      <td>0.0</td>\n",
       "      <td>0.0</td>\n",
       "      <td>0.0</td>\n",
       "      <td>Analysts</td>\n",
       "    </tr>\n",
       "  </tbody>\n",
       "</table>\n",
       "<p>5 rows × 7136 columns</p>\n",
       "</div>"
      ],
      "text/plain": [
       "   abandon  abandoned  abilities   ability      able  abnormal  abortion  \\\n",
       "0      0.0   0.000000        0.0  0.000000  0.000000       0.0       0.0   \n",
       "1      0.0   0.093925        0.0  0.000000  0.036422       0.0       0.0   \n",
       "2      0.0   0.000000        0.0  0.054544  0.037744       0.0       0.0   \n",
       "3      0.0   0.000000        0.0  0.000000  0.036635       0.0       0.0   \n",
       "4      0.0   0.000000        0.0  0.000000  0.000000       0.0       0.0   \n",
       "\n",
       "   abouti  abrasive  abroad  ...  yummy  yup  zelda  zen  zero  zodiac  \\\n",
       "0     0.0       0.0     0.0  ...    0.0  0.0    0.0  0.0   0.0     0.0   \n",
       "1     0.0       0.0     0.0  ...    0.0  0.0    0.0  0.0   0.0     0.0   \n",
       "2     0.0       0.0     0.0  ...    0.0  0.0    0.0  0.0   0.0     0.0   \n",
       "3     0.0       0.0     0.0  ...    0.0  0.0    0.0  0.0   0.0     0.0   \n",
       "4     0.0       0.0     0.0  ...    0.0  0.0    0.0  0.0   0.0     0.0   \n",
       "\n",
       "   zombie  zombies  zone          y  \n",
       "0     0.0      0.0   0.0  Diplomats  \n",
       "1     0.0      0.0   0.0   Analysts  \n",
       "2     0.0      0.0   0.0   Analysts  \n",
       "3     0.0      0.0   0.0   Analysts  \n",
       "4     0.0      0.0   0.0   Analysts  \n",
       "\n",
       "[5 rows x 7136 columns]"
      ]
     },
     "execution_count": 15,
     "metadata": {},
     "output_type": "execute_result"
    }
   ],
   "source": [
    "df.iloc[:, -1] = new_y\n",
    "df.head()"
   ]
  },
  {
   "cell_type": "code",
   "execution_count": 17,
   "id": "1ed1cfa5",
   "metadata": {},
   "outputs": [],
   "source": [
    "df.to_csv(\"bow.csv\", index = False)"
   ]
  },
  {
   "cell_type": "code",
   "execution_count": null,
   "id": "4cef6080",
   "metadata": {},
   "outputs": [],
   "source": []
  }
 ],
 "metadata": {
  "kernelspec": {
   "display_name": "Python 3 (ipykernel)",
   "language": "python",
   "name": "python3"
  },
  "language_info": {
   "codemirror_mode": {
    "name": "ipython",
    "version": 3
   },
   "file_extension": ".py",
   "mimetype": "text/x-python",
   "name": "python",
   "nbconvert_exporter": "python",
   "pygments_lexer": "ipython3",
   "version": "3.8.12"
  },
  "toc": {
   "base_numbering": 1,
   "nav_menu": {},
   "number_sections": true,
   "sideBar": true,
   "skip_h1_title": false,
   "title_cell": "Table of Contents",
   "title_sidebar": "Contents",
   "toc_cell": false,
   "toc_position": {},
   "toc_section_display": true,
   "toc_window_display": false
  }
 },
 "nbformat": 4,
 "nbformat_minor": 5
}
