{
 "cells": [
  {
   "cell_type": "code",
   "execution_count": 4,
   "id": "f897529d",
   "metadata": {},
   "outputs": [],
   "source": [
    "import pandas as pd\n",
    "import numpy as np\n",
    "from sklearn.model_selection import train_test_split\n",
    "from sklearn.tree import DecisionTreeClassifier, plot_tree\n",
    "from sklearn.metrics import accuracy_score"
   ]
  },
  {
   "cell_type": "markdown",
   "id": "78b45a1e",
   "metadata": {},
   "source": [
    "# Decision Tree"
   ]
  },
  {
   "cell_type": "code",
   "execution_count": 2,
   "id": "09cc5809",
   "metadata": {},
   "outputs": [],
   "source": [
    "df = pd.read_csv(\"bow.csv\")"
   ]
  },
  {
   "cell_type": "code",
   "execution_count": 3,
   "id": "12588165",
   "metadata": {},
   "outputs": [
    {
     "data": {
      "text/html": [
       "<div>\n",
       "<style scoped>\n",
       "    .dataframe tbody tr th:only-of-type {\n",
       "        vertical-align: middle;\n",
       "    }\n",
       "\n",
       "    .dataframe tbody tr th {\n",
       "        vertical-align: top;\n",
       "    }\n",
       "\n",
       "    .dataframe thead th {\n",
       "        text-align: right;\n",
       "    }\n",
       "</style>\n",
       "<table border=\"1\" class=\"dataframe\">\n",
       "  <thead>\n",
       "    <tr style=\"text-align: right;\">\n",
       "      <th></th>\n",
       "      <th>abandon</th>\n",
       "      <th>abandoned</th>\n",
       "      <th>abilities</th>\n",
       "      <th>ability</th>\n",
       "      <th>able</th>\n",
       "      <th>abnormal</th>\n",
       "      <th>abortion</th>\n",
       "      <th>abouti</th>\n",
       "      <th>abrasive</th>\n",
       "      <th>abroad</th>\n",
       "      <th>...</th>\n",
       "      <th>yummy</th>\n",
       "      <th>yup</th>\n",
       "      <th>zelda</th>\n",
       "      <th>zen</th>\n",
       "      <th>zero</th>\n",
       "      <th>zodiac</th>\n",
       "      <th>zombie</th>\n",
       "      <th>zombies</th>\n",
       "      <th>zone</th>\n",
       "      <th>y</th>\n",
       "    </tr>\n",
       "  </thead>\n",
       "  <tbody>\n",
       "    <tr>\n",
       "      <th>0</th>\n",
       "      <td>0.0</td>\n",
       "      <td>0.000000</td>\n",
       "      <td>0.0</td>\n",
       "      <td>0.000000</td>\n",
       "      <td>0.000000</td>\n",
       "      <td>0.0</td>\n",
       "      <td>0.0</td>\n",
       "      <td>0.0</td>\n",
       "      <td>0.0</td>\n",
       "      <td>0.0</td>\n",
       "      <td>...</td>\n",
       "      <td>0.0</td>\n",
       "      <td>0.0</td>\n",
       "      <td>0.0</td>\n",
       "      <td>0.0</td>\n",
       "      <td>0.0</td>\n",
       "      <td>0.0</td>\n",
       "      <td>0.0</td>\n",
       "      <td>0.0</td>\n",
       "      <td>0.0</td>\n",
       "      <td>INFJ</td>\n",
       "    </tr>\n",
       "    <tr>\n",
       "      <th>1</th>\n",
       "      <td>0.0</td>\n",
       "      <td>0.093925</td>\n",
       "      <td>0.0</td>\n",
       "      <td>0.000000</td>\n",
       "      <td>0.036422</td>\n",
       "      <td>0.0</td>\n",
       "      <td>0.0</td>\n",
       "      <td>0.0</td>\n",
       "      <td>0.0</td>\n",
       "      <td>0.0</td>\n",
       "      <td>...</td>\n",
       "      <td>0.0</td>\n",
       "      <td>0.0</td>\n",
       "      <td>0.0</td>\n",
       "      <td>0.0</td>\n",
       "      <td>0.0</td>\n",
       "      <td>0.0</td>\n",
       "      <td>0.0</td>\n",
       "      <td>0.0</td>\n",
       "      <td>0.0</td>\n",
       "      <td>ENTP</td>\n",
       "    </tr>\n",
       "    <tr>\n",
       "      <th>2</th>\n",
       "      <td>0.0</td>\n",
       "      <td>0.000000</td>\n",
       "      <td>0.0</td>\n",
       "      <td>0.054544</td>\n",
       "      <td>0.037744</td>\n",
       "      <td>0.0</td>\n",
       "      <td>0.0</td>\n",
       "      <td>0.0</td>\n",
       "      <td>0.0</td>\n",
       "      <td>0.0</td>\n",
       "      <td>...</td>\n",
       "      <td>0.0</td>\n",
       "      <td>0.0</td>\n",
       "      <td>0.0</td>\n",
       "      <td>0.0</td>\n",
       "      <td>0.0</td>\n",
       "      <td>0.0</td>\n",
       "      <td>0.0</td>\n",
       "      <td>0.0</td>\n",
       "      <td>0.0</td>\n",
       "      <td>INTP</td>\n",
       "    </tr>\n",
       "    <tr>\n",
       "      <th>3</th>\n",
       "      <td>0.0</td>\n",
       "      <td>0.000000</td>\n",
       "      <td>0.0</td>\n",
       "      <td>0.000000</td>\n",
       "      <td>0.036635</td>\n",
       "      <td>0.0</td>\n",
       "      <td>0.0</td>\n",
       "      <td>0.0</td>\n",
       "      <td>0.0</td>\n",
       "      <td>0.0</td>\n",
       "      <td>...</td>\n",
       "      <td>0.0</td>\n",
       "      <td>0.0</td>\n",
       "      <td>0.0</td>\n",
       "      <td>0.0</td>\n",
       "      <td>0.0</td>\n",
       "      <td>0.0</td>\n",
       "      <td>0.0</td>\n",
       "      <td>0.0</td>\n",
       "      <td>0.0</td>\n",
       "      <td>INTJ</td>\n",
       "    </tr>\n",
       "    <tr>\n",
       "      <th>4</th>\n",
       "      <td>0.0</td>\n",
       "      <td>0.000000</td>\n",
       "      <td>0.0</td>\n",
       "      <td>0.000000</td>\n",
       "      <td>0.000000</td>\n",
       "      <td>0.0</td>\n",
       "      <td>0.0</td>\n",
       "      <td>0.0</td>\n",
       "      <td>0.0</td>\n",
       "      <td>0.0</td>\n",
       "      <td>...</td>\n",
       "      <td>0.0</td>\n",
       "      <td>0.0</td>\n",
       "      <td>0.0</td>\n",
       "      <td>0.0</td>\n",
       "      <td>0.0</td>\n",
       "      <td>0.0</td>\n",
       "      <td>0.0</td>\n",
       "      <td>0.0</td>\n",
       "      <td>0.0</td>\n",
       "      <td>ENTJ</td>\n",
       "    </tr>\n",
       "  </tbody>\n",
       "</table>\n",
       "<p>5 rows × 7136 columns</p>\n",
       "</div>"
      ],
      "text/plain": [
       "   abandon  abandoned  abilities   ability      able  abnormal  abortion  \\\n",
       "0      0.0   0.000000        0.0  0.000000  0.000000       0.0       0.0   \n",
       "1      0.0   0.093925        0.0  0.000000  0.036422       0.0       0.0   \n",
       "2      0.0   0.000000        0.0  0.054544  0.037744       0.0       0.0   \n",
       "3      0.0   0.000000        0.0  0.000000  0.036635       0.0       0.0   \n",
       "4      0.0   0.000000        0.0  0.000000  0.000000       0.0       0.0   \n",
       "\n",
       "   abouti  abrasive  abroad  ...  yummy  yup  zelda  zen  zero  zodiac  \\\n",
       "0     0.0       0.0     0.0  ...    0.0  0.0    0.0  0.0   0.0     0.0   \n",
       "1     0.0       0.0     0.0  ...    0.0  0.0    0.0  0.0   0.0     0.0   \n",
       "2     0.0       0.0     0.0  ...    0.0  0.0    0.0  0.0   0.0     0.0   \n",
       "3     0.0       0.0     0.0  ...    0.0  0.0    0.0  0.0   0.0     0.0   \n",
       "4     0.0       0.0     0.0  ...    0.0  0.0    0.0  0.0   0.0     0.0   \n",
       "\n",
       "   zombie  zombies  zone     y  \n",
       "0     0.0      0.0   0.0  INFJ  \n",
       "1     0.0      0.0   0.0  ENTP  \n",
       "2     0.0      0.0   0.0  INTP  \n",
       "3     0.0      0.0   0.0  INTJ  \n",
       "4     0.0      0.0   0.0  ENTJ  \n",
       "\n",
       "[5 rows x 7136 columns]"
      ]
     },
     "execution_count": 3,
     "metadata": {},
     "output_type": "execute_result"
    }
   ],
   "source": [
    "df.head()"
   ]
  },
  {
   "cell_type": "code",
   "execution_count": 57,
   "id": "ea1c5e4b",
   "metadata": {},
   "outputs": [],
   "source": [
    "x = df.iloc[:, :-1]\n",
    "y = df.iloc[:, -1]\n",
    "x_train, x_test, y_train, y_test = train_test_split(x, y, test_size = 0.3)\n",
    "y_train = np.array(y_train.to_list())"
   ]
  },
  {
   "cell_type": "code",
   "execution_count": 17,
   "id": "0015e87e",
   "metadata": {},
   "outputs": [
    {
     "name": "stdout",
     "output_type": "stream",
     "text": [
      "0.4271993853246254\n",
      "0.3622742988859009\n",
      "0.35728006146753744\n",
      "0.3634268152132155\n",
      "0.3603534383403765\n",
      "0.3603534383403765\n"
     ]
    }
   ],
   "source": [
    "max_depth = [5, 10, 15, 20, 35, 50, 100, 300, 600, 900]\n",
    "\n",
    "for depth in max_depth:\n",
    "    clf = DecisionTreeClassifier(max_depth = depth)\n",
    "    clf.fit(x_train, y_train)\n",
    "    print(accuracy_score(y_test, clf.predict(x_test)))"
   ]
  },
  {
   "cell_type": "markdown",
   "id": "100839fc",
   "metadata": {},
   "source": [
    "# Random Forest"
   ]
  },
  {
   "cell_type": "code",
   "execution_count": 18,
   "id": "3680a9ef",
   "metadata": {},
   "outputs": [],
   "source": [
    "import random"
   ]
  },
  {
   "cell_type": "code",
   "execution_count": 148,
   "id": "23d50cd9",
   "metadata": {},
   "outputs": [],
   "source": [
    "np.random.seed(1000)\n",
    "n_models, n_persons, n_subset = 300, x_train.shape[0], 10\n",
    "random_forest = []\n",
    "for i in range(n_models):\n",
    "    # sample the data with replacement\n",
    "    random_idx = np.random.randint(0, n_persons, size=(n_subset,))\n",
    "    X_random, y_random = x_train.iloc[random_idx, :], y_train[random_idx]\n",
    "\n",
    "    # train a decision tree model\n",
    "    clf = DecisionTreeClassifier(max_depth = 5)\n",
    "    clf.fit(X_random, y_random)\n",
    "\n",
    "    # append it to our ensemble\n",
    "    random_forest += [clf]"
   ]
  },
  {
   "cell_type": "code",
   "execution_count": 149,
   "id": "a2b3cf91",
   "metadata": {},
   "outputs": [],
   "source": [
    "# Maximum occurrences\n",
    "def randomForestPred(data, random_forest):    \n",
    "    lst = []\n",
    "    for i in range(data.shape[0]):\n",
    "        d = data.iloc[i:i+1]\n",
    "        temp = []\n",
    "        for clf in random_forest:\n",
    "            pred = clf.predict(d).item()\n",
    "            temp.append(pred)\n",
    "        lst.append(max(temp, key = temp.count))\n",
    "    return lst\n",
    "\n",
    "y_predict = randomForestPred(x_test, random_forest)"
   ]
  },
  {
   "cell_type": "code",
   "execution_count": 150,
   "id": "633e50a3",
   "metadata": {},
   "outputs": [
    {
     "name": "stdout",
     "output_type": "stream",
     "text": [
      "2603 2603 2603\n"
     ]
    },
    {
     "data": {
      "text/plain": [
       "0.27545140222819825"
      ]
     },
     "execution_count": 150,
     "metadata": {},
     "output_type": "execute_result"
    }
   ],
   "source": [
    "accuracy_score(y_test, y_predict)"
   ]
  },
  {
   "cell_type": "code",
   "execution_count": null,
   "id": "b1c75970",
   "metadata": {},
   "outputs": [],
   "source": []
  }
 ],
 "metadata": {
  "kernelspec": {
   "display_name": "Python 3 (ipykernel)",
   "language": "python",
   "name": "python3"
  },
  "language_info": {
   "codemirror_mode": {
    "name": "ipython",
    "version": 3
   },
   "file_extension": ".py",
   "mimetype": "text/x-python",
   "name": "python",
   "nbconvert_exporter": "python",
   "pygments_lexer": "ipython3",
   "version": "3.8.12"
  },
  "toc": {
   "base_numbering": 1,
   "nav_menu": {},
   "number_sections": true,
   "sideBar": true,
   "skip_h1_title": false,
   "title_cell": "Table of Contents",
   "title_sidebar": "Contents",
   "toc_cell": false,
   "toc_position": {},
   "toc_section_display": true,
   "toc_window_display": false
  }
 },
 "nbformat": 4,
 "nbformat_minor": 5
}
